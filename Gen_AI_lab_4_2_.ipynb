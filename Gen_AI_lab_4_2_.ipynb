{
  "nbformat": 4,
  "nbformat_minor": 0,
  "metadata": {
    "colab": {
      "provenance": [],
      "authorship_tag": "ABX9TyNOuzVVS+4w604vBrhkmPHl",
      "include_colab_link": true
    },
    "kernelspec": {
      "name": "python3",
      "display_name": "Python 3"
    },
    "language_info": {
      "name": "python"
    }
  },
  "cells": [
    {
      "cell_type": "markdown",
      "metadata": {
        "id": "view-in-github",
        "colab_type": "text"
      },
      "source": [
        "<a href=\"https://colab.research.google.com/github/Akshithvodnala18/GENERATIVE_AI_2303A52433/blob/main/Gen_AI_lab_4_2_.ipynb\" target=\"_parent\"><img src=\"https://colab.research.google.com/assets/colab-badge.svg\" alt=\"Open In Colab\"/></a>"
      ]
    },
    {
      "cell_type": "code",
      "execution_count": 1,
      "metadata": {
        "colab": {
          "base_uri": "https://localhost:8080/"
        },
        "id": "F1szwX5shEYw",
        "outputId": "d3562750-d57e-4842-c5f2-437895124e5e"
      },
      "outputs": [
        {
          "output_type": "stream",
          "name": "stdout",
          "text": [
            "Enter x1: 0.1\n",
            "Enter x2: 0.2\n",
            "Enter x3: 0.3\n",
            "Predicted y: 0.7190996574163839\n"
          ]
        }
      ],
      "source": [
        "import numpy as np\n",
        "import math\n",
        "from sklearn.model_selection import train_test_split\n",
        "import random\n",
        "import pandas as pd\n",
        "\n",
        "data = {'x1': [0.1, 0.2, 0.3, 0.5, 0.1, 0.2, 0.3, 0.4, 0.5, 0.6, 0.7],\n",
        "        'x2': [0.2, 0.3, 0.4, 0.6, 0.3, 0.4, 0.5, 0.6, 0.7, 0.7, 0.8],\n",
        "        'x3': [0.3, 0.4, 0.5, 0.7, 0.5, 0.6, 0.7, 0.8, 0.1, 0.8, 0.9],\n",
        "        'y': [0.5349, 0.5498, 0.5646, 0.5939, 0.5548, 0.5695, 0.5842, 0.5987, 0.5548, 0.6083, 0.6225]}\n",
        "df = pd.DataFrame(data)\n",
        "df.to_csv('data.csv', index=False)\n",
        "df\n",
        "train_data = df.iloc[:-2]\n",
        "test_data = df.iloc[-2:]\n",
        "x1_train = train_data['x1'].values\n",
        "x2_train = train_data['x2'].values\n",
        "x3_train = train_data['x3'].values\n",
        "y_train = train_data['y'].values\n",
        "x1_test = test_data['x1'].values\n",
        "x2_test = test_data['x2'].values\n",
        "x3_test = test_data['x3'].values\n",
        "y_test = test_data['y'].values\n",
        "b = round(random.uniform(0, 1),1)\n",
        "w1 = round(random.uniform(0, 1),1)\n",
        "w2 = round(random.uniform(0, 1),1)\n",
        "w3 = round(random.uniform(0, 1),1)\n",
        "n = 0.005\n",
        "b, w1, w2, w3, n\n",
        "def ANN(x1, x2, x3, w1, w2, w3, b):\n",
        "    z = x1 * w1 + x2 * w2 + x3 * w3 + b\n",
        "    return z\n",
        "ANN(x1_train[0], x2_train[0], x3_train[0], w1, w2, w3, b)\n",
        "\n",
        "def sigmoid(x1,x2,x3,w1,w2,w3,b):\n",
        "  y_pred = 1/(1+math.exp(-(ANN(x1, x2, x3, w1, w2, w3, b))))\n",
        "  return y_pred\n",
        "def sigmoid_ANN(x1_train, x2_train, x3_train, intial_w1, intial_w2, intial_w3, intial_b):\n",
        "  for i in range(10000):\n",
        "    for j in range(0,len(x1_train)):\n",
        "      y_pred = sigmoid(x1_train[j], x2_train[j], x3_train[j], intial_w1, intial_w2, intial_w3, intial_b)\n",
        "      del_b = 2*n*(y_train[j] - y_pred)*(y_pred)*(1-y_pred)\n",
        "      del_w1 = 2*n*(y_train[j] - y_pred)*y_pred*(1-y_pred)* x1_train[j]\n",
        "      del_w2 = 2*n*(y_train[j] - y_pred)*y_pred*(1-y_pred)* x2_train[j]\n",
        "      del_w3 = 2*n*(y_train[j] - y_pred)*y_pred*(1-y_pred)* x3_train[j]\n",
        "      intial_w1 = intial_w1 + del_w1\n",
        "      intial_w2 = intial_w2 + del_w2\n",
        "      intial_w3 = intial_w3 + del_w3\n",
        "      intial_b = intial_b + del_b\n",
        "sigmoid_ANN(x1_train, x2_train, x3_train, w1, w2, w3, b)\n",
        "train_error = []\n",
        "for j in range(0,len(x1_train)):\n",
        "    y_pred = ANN(x1_train[j], x2_train[j], x3_train[j], w1, w2, w3, b)\n",
        "    train_error.append((y_train[j] - y_pred)**2)\n",
        "train_error\n",
        "\n",
        "Final_train_error = sum(train_error)/len(train_error)\n",
        "Final_train_error\n",
        "test_error = []\n",
        "for j in range(0,len(x1_test)):\n",
        "    test_y_pred = ANN(x1_test[j], x2_test[j], x3_test[j], w1, w2, w3, b)\n",
        "    test_error.append((y_test[j] - y_pred)**2)\n",
        "test_error\n",
        "Final_test_error = sum(test_error)/len(test_error)\n",
        "Final_test_error\n",
        "x1 = float(input(\"Enter x1: \"))\n",
        "x2 = float(input(\"Enter x2: \"))\n",
        "x3 = float(input(\"Enter x3: \"))\n",
        "y_pred = sigmoid(x1, x2, x3, w1, w2, w3, b)\n",
        "print(\"Predicted y:\", y_pred)\n"
      ]
    }
  ]
}